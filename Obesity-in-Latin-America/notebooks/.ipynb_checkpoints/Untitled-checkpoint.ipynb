{
 "cells": [
  {
   "cell_type": "code",
   "execution_count": null,
   "id": "eb817d17-c243-46bb-823c-8eb635947c2d",
   "metadata": {},
   "outputs": [],
   "source": []
  }
 ],
 "metadata": {
  "kernelspec": {
   "display_name": "",
   "name": ""
  },
  "language_info": {
   "name": ""
  }
 },
 "nbformat": 4,
 "nbformat_minor": 5
}
